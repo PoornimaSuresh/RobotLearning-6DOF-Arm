{
 "cells": [
  {
   "cell_type": "code",
   "execution_count": 1,
   "metadata": {},
   "outputs": [
    {
     "data": {
      "text/plain": [
       "<IPython.core.display.Javascript object>"
      ]
     },
     "metadata": {},
     "output_type": "display_data"
    },
    {
     "data": {
      "text/plain": [
       "<IPython.core.display.Javascript object>"
      ]
     },
     "metadata": {},
     "output_type": "display_data"
    },
    {
     "data": {
      "text/plain": [
       "<IPython.core.display.Javascript object>"
      ]
     },
     "metadata": {},
     "output_type": "display_data"
    },
    {
     "data": {
      "text/plain": [
       "<IPython.core.display.Javascript object>"
      ]
     },
     "metadata": {},
     "output_type": "display_data"
    },
    {
     "data": {
      "text/plain": [
       "<IPython.core.display.Javascript object>"
      ]
     },
     "metadata": {},
     "output_type": "display_data"
    },
    {
     "data": {
      "text/plain": [
       "<IPython.core.display.Javascript object>"
      ]
     },
     "metadata": {},
     "output_type": "display_data"
    },
    {
     "data": {
      "text/html": [
       "<div id=\"glowscript\" class=\"glowscript\"></div>"
      ],
      "text/plain": [
       "<IPython.core.display.HTML object>"
      ]
     },
     "metadata": {},
     "output_type": "execute_result"
    },
    {
     "data": {
      "text/plain": [
       "<IPython.core.display.Javascript object>"
      ]
     },
     "metadata": {},
     "output_type": "display_data"
    }
   ],
   "source": [
    "from vpython import *\n",
    "\n",
    "linklength = 10\n",
    "\n",
    "def angles(q1, q2, q, q4, q5, q6):\n",
    "    return True"
   ]
  },
  {
   "cell_type": "code",
   "execution_count": 2,
   "metadata": {},
   "outputs": [],
   "source": [
    "# Initialize all joints and links\n",
    "joint1 = sphere(pos = vector(0,0,0), color = vector(0,0,255))\n",
    "link1 = cylinder(pos = joint1.pos, axis = vector(linklength,0,0))\n",
    "joint2 = sphere(pos = link1.axis, color = vector(0,0,255))\n",
    "link2 = cylinder(pos = vector(link1.axis), axis = vector(0, linklength, 0))\n",
    "joint3 = sphere(pos = (link2.axis + link2.pos), color = vector(0,0,255))\n",
    "link3 = cylinder(pos = vector(link2.pos + link2.axis), axis = vector(0, 0, linklength))\n",
    "joint4 = sphere(pos = (link3.axis + link3.pos), color = vector(0,0,255))\n",
    "link4 = cylinder(pos = vector(link3.pos + link3.axis), axis = vector(linklength, 0, 0))\n",
    "joint5 = sphere(pos = (link4.axis + link4.pos), color = vector(0,0,255))\n",
    "link5 = cylinder(pos = vector(link4.pos + link4.axis), axis = vector(0, -linklength, 0))\n",
    "joint6 = sphere(pos = (link5.axis + link5.pos), color = vector(0,0,255))\n",
    "link6 = cylinder(pos = vector(link5.pos + link5.axis), axis = vector(0, 0, -linklength))\n",
    "endeffector = arrow(pos = link6.pos + link6.axis, axis = link6.axis, color = vector(255, 0, 0))  "
   ]
  },
  {
   "cell_type": "code",
   "execution_count": null,
   "metadata": {},
   "outputs": [],
   "source": []
  }
 ],
 "metadata": {
  "kernelspec": {
   "display_name": "VPython",
   "language": "python",
   "name": "vpython"
  },
  "language_info": {
   "codemirror_mode": {
    "name": "ipython",
    "version": 3
   },
   "file_extension": ".py",
   "mimetype": "text/x-python",
   "name": "python",
   "nbconvert_exporter": "python",
   "pygments_lexer": "ipython3",
   "version": "3.5.1"
  }
 },
 "nbformat": 4,
 "nbformat_minor": 1
}
